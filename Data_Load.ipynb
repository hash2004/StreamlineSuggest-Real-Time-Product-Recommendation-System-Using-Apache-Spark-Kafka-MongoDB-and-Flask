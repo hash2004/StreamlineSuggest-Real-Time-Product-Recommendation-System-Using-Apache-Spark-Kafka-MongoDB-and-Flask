{
 "cells": [
  {
   "cell_type": "code",
   "execution_count": 5,
   "metadata": {},
   "outputs": [],
   "source": [
    "from pyspark.sql import SparkSession\n",
    "from pyspark.sql.types import StructType, StructField, StringType, LongType, DoubleType, BooleanType, TimestampType\n",
    "\n",
    "spark=SparkSession \\\n",
    "    .builder \\\n",
    "    .appName(\"data_to_mongodb\") \\\n",
    "    .master(\"local\") \\\n",
    "    .config(\"spark.mongodb.input.uri\", \"mongodb://localhost:27017/\") \\\n",
    "    .config(\"spark.mongodb.output.uri\", \"mongodb://localhost:27017/\") \\\n",
    "    .config(\"spark.executor.memory\", \"6g\") \\\n",
    "    .config(\"spark.jars.packages\", \"org.mongodb.spark:mongo-spark-connector_2.12:3.0.1\") \\\n",
    "    .getOrCreate()"
   ]
  },
  {
   "cell_type": "code",
   "execution_count": 6,
   "metadata": {},
   "outputs": [],
   "source": [
    "schema = StructType([\n",
    "    StructField(\"asin\", StringType(), True),\n",
    "    StructField(\"overall\", DoubleType(), True),\n",
    "    StructField(\"reviewText\", StringType(), True),\n",
    "    StructField(\"reviewerID\", StringType(), True),\n",
    "    StructField(\"reviewerName\", StringType(), True),\n",
    "    StructField(\"summary\", StringType(), True),\n",
    "    StructField(\"unixReviewTime\", DoubleType(), True),\n",
    "    StructField(\"verified\", BooleanType(), True)\n",
    "])\n"
   ]
  },
  {
   "cell_type": "code",
   "execution_count": 7,
   "metadata": {},
   "outputs": [],
   "source": [
    "dataframe = spark.read.format(\"json\").schema(schema).load(\"D:\\All_Amazon_Review_Folder\\All_Amazon_Review.json\")\n",
    "\n",
    "dataframe.select(\"asin\", \"reviewerID\", \"reviewerName\", \"reviewText\", \"summary\", \"overall\", \"unixReviewTime\",\"verified\").write \\\n",
    "    .format(\"com.mongodb.spark.sql.DefaultSource\") \\\n",
    "    .option(\"uri\", \"mongodb://localhost:27017/amazon.data\") \\\n",
    "    .option(\"partitioner\", \"MongoSinglePartitioner\") \\\n",
    "    .option(\"partitionkey\", \"asin\") \\\n",
    "    .save()\n",
    "    \n",
    "spark.stop()\n"
   ]
  }
 ],
 "metadata": {
  "kernelspec": {
   "display_name": "Python 3",
   "language": "python",
   "name": "python3"
  },
  "language_info": {
   "codemirror_mode": {
    "name": "ipython",
    "version": 3
   },
   "file_extension": ".py",
   "mimetype": "text/x-python",
   "name": "python",
   "nbconvert_exporter": "python",
   "pygments_lexer": "ipython3",
   "version": "3.10.12"
  },
  "orig_nbformat": 4
 },
 "nbformat": 4,
 "nbformat_minor": 2
}
